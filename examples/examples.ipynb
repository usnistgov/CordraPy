{
 "cells": [
  {
   "cell_type": "code",
   "execution_count": 1,
   "metadata": {},
   "outputs": [],
   "source": [
    "import getpass\n",
    "import cordra\n",
    "from lucenequerybuilder import Q\n",
    "from io import StringIO\n",
    "import pandas as pd\n",
    "import matplotlib.pyplot as plt"
   ]
  },
  {
   "cell_type": "markdown",
   "metadata": {},
   "source": [
    "# Cordra Host Information"
   ]
  },
  {
   "cell_type": "code",
   "execution_count": 2,
   "metadata": {},
   "outputs": [],
   "source": [
    "host = \"https://localhost\"\n",
    "obj_type = \"debug\""
   ]
  },
  {
   "cell_type": "markdown",
   "metadata": {},
   "source": [
    "# User Login Details"
   ]
  },
  {
   "cell_type": "code",
   "execution_count": 3,
   "metadata": {},
   "outputs": [
    {
     "name": "stdout",
     "output_type": "stream",
     "text": [
      "········\n"
     ]
    }
   ],
   "source": [
    "username = \"testuser1\"\n",
    "password = getpass.getpass()"
   ]
  },
  {
   "cell_type": "markdown",
   "metadata": {},
   "source": [
    "# Create two similar objects"
   ]
  },
  {
   "cell_type": "code",
   "execution_count": 4,
   "metadata": {},
   "outputs": [
    {
     "data": {
      "text/plain": [
       "{'id': 'test/c52d15c41c8d33609e64',\n",
       " 'name': 'example 1',\n",
       " 'description': 'an example of metadata for CSV payload',\n",
       " 'author': 'John'}"
      ]
     },
     "execution_count": 4,
     "metadata": {},
     "output_type": "execute_result"
    }
   ],
   "source": [
    "file_1 = \"example-data.csv\"\n",
    "payloads = {'p1': (file_1, open(file_1,'rb'))}\n",
    "\n",
    "obj_1 = dict()\n",
    "obj_1[\"name\"] = \"example 1\"\n",
    "obj_1[\"description\"] = \"an example of metadata for CSV payload\"\n",
    "obj_1[\"author\"] = \"John\"\n",
    "\n",
    "my_acl = dict()\n",
    "my_acl[\"readers\"] = [\"public\"]\n",
    "\n",
    "response = cordra.Objects.create(\n",
    "    host,\n",
    "    obj_1,\n",
    "    obj_type,\n",
    "    username=username,\n",
    "    password=password,\n",
    "    verify=False,\n",
    "    acls=my_acl,\n",
    "    payloads=payloads)\n",
    "response"
   ]
  },
  {
   "cell_type": "code",
   "execution_count": 5,
   "metadata": {},
   "outputs": [
    {
     "data": {
      "text/plain": [
       "{'id': 'test/f839b56d6dae689c33b2',\n",
       " 'name': 'example 2',\n",
       " 'description': 'another example of metadata for CSV payload',\n",
       " 'author': 'Tim'}"
      ]
     },
     "execution_count": 5,
     "metadata": {},
     "output_type": "execute_result"
    }
   ],
   "source": [
    "file_2 = \"example-data.csv\"\n",
    "payloads = {'p1': (file_2, open(file_2,'rb'))}\n",
    "\n",
    "obj_2 = dict()\n",
    "obj_2[\"name\"] = \"example 2\"\n",
    "obj_2[\"description\"] = \"another example of metadata for CSV payload\"\n",
    "obj_2[\"author\"] = \"Tim\"\n",
    "\n",
    "my_acl = dict()\n",
    "my_acl[\"readers\"] = [\"public\"]\n",
    "\n",
    "response = cordra.Objects.create(\n",
    "    host,\n",
    "    obj_2,\n",
    "    obj_type,\n",
    "    username=username,\n",
    "    password=password,\n",
    "    verify=False,\n",
    "    acls=my_acl,\n",
    "    payloads=payloads)\n",
    "response"
   ]
  },
  {
   "cell_type": "markdown",
   "metadata": {},
   "source": [
    "# Query objects"
   ]
  },
  {
   "cell_type": "markdown",
   "metadata": {},
   "source": [
    "## Full text query example"
   ]
  },
  {
   "cell_type": "code",
   "execution_count": 6,
   "metadata": {},
   "outputs": [
    {
     "data": {
      "text/plain": [
       "{'pageNum': 0,\n",
       " 'pageSize': -1,\n",
       " 'size': 4,\n",
       " 'results': [{'id': 'test/72b07e641d28b8b90ac7',\n",
       "   'name': 'example 1',\n",
       "   'description': 'an example of metadata for CSV payload',\n",
       "   'author': 'John'},\n",
       "  {'id': 'test/abedafa7da73571f799d',\n",
       "   'name': 'example 2',\n",
       "   'description': 'another example of metadata for CSV payload',\n",
       "   'author': 'Tim'},\n",
       "  {'id': 'test/c52d15c41c8d33609e64',\n",
       "   'name': 'example 1',\n",
       "   'description': 'an example of metadata for CSV payload',\n",
       "   'author': 'John'},\n",
       "  {'id': 'test/f839b56d6dae689c33b2',\n",
       "   'name': 'example 2',\n",
       "   'description': 'another example of metadata for CSV payload',\n",
       "   'author': 'Tim'}]}"
      ]
     },
     "execution_count": 6,
     "metadata": {},
     "output_type": "execute_result"
    }
   ],
   "source": [
    "q = Q('metadata')\n",
    "my_results = cordra.Objects.find(host,str(q),verify=False)\n",
    "my_results"
   ]
  },
  {
   "cell_type": "markdown",
   "metadata": {},
   "source": [
    "## Field query examples"
   ]
  },
  {
   "cell_type": "code",
   "execution_count": 7,
   "metadata": {},
   "outputs": [
    {
     "data": {
      "text/plain": [
       "{'pageNum': 0,\n",
       " 'pageSize': -1,\n",
       " 'size': 2,\n",
       " 'results': [{'id': 'test/72b07e641d28b8b90ac7',\n",
       "   'name': 'example 1',\n",
       "   'description': 'an example of metadata for CSV payload',\n",
       "   'author': 'John'},\n",
       "  {'id': 'test/c52d15c41c8d33609e64',\n",
       "   'name': 'example 1',\n",
       "   'description': 'an example of metadata for CSV payload',\n",
       "   'author': 'John'}]}"
      ]
     },
     "execution_count": 7,
     "metadata": {},
     "output_type": "execute_result"
    }
   ],
   "source": [
    "q = Q('/author','John')\n",
    "my_results = cordra.Objects.find(host,str(q),verify=False)\n",
    "obj_id_1 = my_results[\"results\"][0][\"id\"]\n",
    "my_results"
   ]
  },
  {
   "cell_type": "code",
   "execution_count": 8,
   "metadata": {},
   "outputs": [
    {
     "data": {
      "text/plain": [
       "{'pageNum': 0,\n",
       " 'pageSize': -1,\n",
       " 'size': 2,\n",
       " 'results': [{'id': 'test/abedafa7da73571f799d',\n",
       "   'name': 'example 2',\n",
       "   'description': 'another example of metadata for CSV payload',\n",
       "   'author': 'Tim'},\n",
       "  {'id': 'test/f839b56d6dae689c33b2',\n",
       "   'name': 'example 2',\n",
       "   'description': 'another example of metadata for CSV payload',\n",
       "   'author': 'Tim'}]}"
      ]
     },
     "execution_count": 8,
     "metadata": {},
     "output_type": "execute_result"
    }
   ],
   "source": [
    "q = Q('/author','Tim')\n",
    "my_results = cordra.Objects.find(host,str(q),verify=False)\n",
    "obj_id_2 = my_results[\"results\"][0][\"id\"]\n",
    "my_results"
   ]
  },
  {
   "cell_type": "markdown",
   "metadata": {},
   "source": [
    "# Read objects"
   ]
  },
  {
   "cell_type": "code",
   "execution_count": 9,
   "metadata": {},
   "outputs": [
    {
     "data": {
      "text/plain": [
       "'test/abedafa7da73571f799d'"
      ]
     },
     "execution_count": 9,
     "metadata": {},
     "output_type": "execute_result"
    }
   ],
   "source": [
    "obj_id_2"
   ]
  },
  {
   "cell_type": "code",
   "execution_count": 10,
   "metadata": {},
   "outputs": [
    {
     "data": {
      "text/plain": [
       "{'id': 'test/abedafa7da73571f799d',\n",
       " 'name': 'example 2',\n",
       " 'description': 'another example of metadata for CSV payload',\n",
       " 'author': 'Tim'}"
      ]
     },
     "execution_count": 10,
     "metadata": {},
     "output_type": "execute_result"
    }
   ],
   "source": [
    "my_obj = cordra.Objects.read(host,obj_id_2,verify=False)\n",
    "my_obj"
   ]
  },
  {
   "cell_type": "code",
   "execution_count": 11,
   "metadata": {},
   "outputs": [
    {
     "data": {
      "text/plain": [
       "{'id': 'test/abedafa7da73571f799d',\n",
       " 'type': 'debug',\n",
       " 'content': {'id': 'test/abedafa7da73571f799d',\n",
       "  'name': 'example 2',\n",
       "  'description': 'another example of metadata for CSV payload',\n",
       "  'author': 'Tim'},\n",
       " 'acl': {'readers': ['public']},\n",
       " 'metadata': {'createdOn': 1585165545682,\n",
       "  'createdBy': 'test/af3ae12608ced0778915',\n",
       "  'modifiedOn': 1585165545682,\n",
       "  'modifiedBy': 'test/af3ae12608ced0778915',\n",
       "  'txnId': 1585165545682015},\n",
       " 'payloads': [{'name': 'p1', 'filename': 'example-data.csv', 'size': 385}]}"
      ]
     },
     "execution_count": 11,
     "metadata": {},
     "output_type": "execute_result"
    }
   ],
   "source": [
    "my_obj = cordra.Objects.read(host,obj_id_2,verify=False,full=True)\n",
    "my_obj"
   ]
  },
  {
   "cell_type": "code",
   "execution_count": 12,
   "metadata": {},
   "outputs": [
    {
     "data": {
      "text/plain": [
       "'p1'"
      ]
     },
     "execution_count": 12,
     "metadata": {},
     "output_type": "execute_result"
    }
   ],
   "source": [
    "obj_payload_name = my_obj[\"payloads\"][0][\"name\"]\n",
    "obj_payload_name"
   ]
  },
  {
   "cell_type": "code",
   "execution_count": 13,
   "metadata": {},
   "outputs": [
    {
     "data": {
      "text/plain": [
       "'\\ufeff\"SAM0\",\"SAM1\"\\r\\n1.00,2.302389071\\r\\n2.00,3.71503899\\r\\n3.00,9.426125622\\r\\n4.00,11.34529125\\r\\n5.00,11.87704484\\r\\n6.00,19.01325695\\r\\n7.00,21.52353652\\r\\n8.00,28.28670056\\r\\n9.00,29.55737761\\r\\n10.00,25.89582707\\r\\n11.00,31.57982065\\r\\n12.00,36.02452105\\r\\n13.00,39.47686412\\r\\n14.00,44.41192202\\r\\n15.00,43.36098819\\r\\n16.00,48.61525381\\r\\n17.00,53.91222295\\r\\n18.00,54.28420278\\r\\n19.00,53.1378195\\r\\n20.00,55.88015939'"
      ]
     },
     "execution_count": 13,
     "metadata": {},
     "output_type": "execute_result"
    }
   ],
   "source": [
    "payload = cordra.Objects.read_payload(host,obj_id_2,obj_payload_name,verify=False)\n",
    "payload"
   ]
  },
  {
   "cell_type": "code",
   "execution_count": 14,
   "metadata": {},
   "outputs": [
    {
     "data": {
      "text/html": [
       "<div>\n",
       "<style scoped>\n",
       "    .dataframe tbody tr th:only-of-type {\n",
       "        vertical-align: middle;\n",
       "    }\n",
       "\n",
       "    .dataframe tbody tr th {\n",
       "        vertical-align: top;\n",
       "    }\n",
       "\n",
       "    .dataframe thead th {\n",
       "        text-align: right;\n",
       "    }\n",
       "</style>\n",
       "<table border=\"1\" class=\"dataframe\">\n",
       "  <thead>\n",
       "    <tr style=\"text-align: right;\">\n",
       "      <th></th>\n",
       "      <th>SAM0</th>\n",
       "      <th>SAM1</th>\n",
       "    </tr>\n",
       "  </thead>\n",
       "  <tbody>\n",
       "    <tr>\n",
       "      <td>0</td>\n",
       "      <td>1.0</td>\n",
       "      <td>2.302389</td>\n",
       "    </tr>\n",
       "    <tr>\n",
       "      <td>1</td>\n",
       "      <td>2.0</td>\n",
       "      <td>3.715039</td>\n",
       "    </tr>\n",
       "    <tr>\n",
       "      <td>2</td>\n",
       "      <td>3.0</td>\n",
       "      <td>9.426126</td>\n",
       "    </tr>\n",
       "    <tr>\n",
       "      <td>3</td>\n",
       "      <td>4.0</td>\n",
       "      <td>11.345291</td>\n",
       "    </tr>\n",
       "    <tr>\n",
       "      <td>4</td>\n",
       "      <td>5.0</td>\n",
       "      <td>11.877045</td>\n",
       "    </tr>\n",
       "    <tr>\n",
       "      <td>5</td>\n",
       "      <td>6.0</td>\n",
       "      <td>19.013257</td>\n",
       "    </tr>\n",
       "    <tr>\n",
       "      <td>6</td>\n",
       "      <td>7.0</td>\n",
       "      <td>21.523537</td>\n",
       "    </tr>\n",
       "    <tr>\n",
       "      <td>7</td>\n",
       "      <td>8.0</td>\n",
       "      <td>28.286701</td>\n",
       "    </tr>\n",
       "    <tr>\n",
       "      <td>8</td>\n",
       "      <td>9.0</td>\n",
       "      <td>29.557378</td>\n",
       "    </tr>\n",
       "    <tr>\n",
       "      <td>9</td>\n",
       "      <td>10.0</td>\n",
       "      <td>25.895827</td>\n",
       "    </tr>\n",
       "    <tr>\n",
       "      <td>10</td>\n",
       "      <td>11.0</td>\n",
       "      <td>31.579821</td>\n",
       "    </tr>\n",
       "    <tr>\n",
       "      <td>11</td>\n",
       "      <td>12.0</td>\n",
       "      <td>36.024521</td>\n",
       "    </tr>\n",
       "    <tr>\n",
       "      <td>12</td>\n",
       "      <td>13.0</td>\n",
       "      <td>39.476864</td>\n",
       "    </tr>\n",
       "    <tr>\n",
       "      <td>13</td>\n",
       "      <td>14.0</td>\n",
       "      <td>44.411922</td>\n",
       "    </tr>\n",
       "    <tr>\n",
       "      <td>14</td>\n",
       "      <td>15.0</td>\n",
       "      <td>43.360988</td>\n",
       "    </tr>\n",
       "    <tr>\n",
       "      <td>15</td>\n",
       "      <td>16.0</td>\n",
       "      <td>48.615254</td>\n",
       "    </tr>\n",
       "    <tr>\n",
       "      <td>16</td>\n",
       "      <td>17.0</td>\n",
       "      <td>53.912223</td>\n",
       "    </tr>\n",
       "    <tr>\n",
       "      <td>17</td>\n",
       "      <td>18.0</td>\n",
       "      <td>54.284203</td>\n",
       "    </tr>\n",
       "    <tr>\n",
       "      <td>18</td>\n",
       "      <td>19.0</td>\n",
       "      <td>53.137819</td>\n",
       "    </tr>\n",
       "    <tr>\n",
       "      <td>19</td>\n",
       "      <td>20.0</td>\n",
       "      <td>55.880159</td>\n",
       "    </tr>\n",
       "  </tbody>\n",
       "</table>\n",
       "</div>"
      ],
      "text/plain": [
       "    SAM0       SAM1\n",
       "0    1.0   2.302389\n",
       "1    2.0   3.715039\n",
       "2    3.0   9.426126\n",
       "3    4.0  11.345291\n",
       "4    5.0  11.877045\n",
       "5    6.0  19.013257\n",
       "6    7.0  21.523537\n",
       "7    8.0  28.286701\n",
       "8    9.0  29.557378\n",
       "9   10.0  25.895827\n",
       "10  11.0  31.579821\n",
       "11  12.0  36.024521\n",
       "12  13.0  39.476864\n",
       "13  14.0  44.411922\n",
       "14  15.0  43.360988\n",
       "15  16.0  48.615254\n",
       "16  17.0  53.912223\n",
       "17  18.0  54.284203\n",
       "18  19.0  53.137819\n",
       "19  20.0  55.880159"
      ]
     },
     "execution_count": 14,
     "metadata": {},
     "output_type": "execute_result"
    }
   ],
   "source": [
    "df = pd.read_csv(StringIO(payload))\n",
    "df"
   ]
  },
  {
   "cell_type": "code",
   "execution_count": 15,
   "metadata": {},
   "outputs": [
    {
     "data": {
      "image/png": "[encoded data removed]",
      "text/plain": [
       "<Figure size 432x288 with 1 Axes>"
      ]
     },
     "metadata": {
      "needs_background": "light"
     },
     "output_type": "display_data"
    }
   ],
   "source": [
    "df.plot.scatter(x='SAM0', y='SAM1')\n",
    "plt.show()"
   ]
  },
  {
   "cell_type": "markdown",
   "metadata": {},
   "source": [
    "# Update Objects\n",
    "\n",
    "This also demonstrates the use of \"Dry Run\". During a \"Dry Run\", Cordra not actually create/update the object. Cordra will return results as if object had been created/updated. "
   ]
  },
  {
   "cell_type": "markdown",
   "metadata": {},
   "source": [
    "## Update part of the object JSON\n",
    "\n",
    "payloads not affected"
   ]
  },
  {
   "cell_type": "code",
   "execution_count": 16,
   "metadata": {},
   "outputs": [
    {
     "data": {
      "text/plain": [
       "{'id': 'test/abedafa7da73571f799d',\n",
       " 'type': 'debug',\n",
       " 'content': {'id': 'test/abedafa7da73571f799d',\n",
       "  'name': 'example 2',\n",
       "  'description': 'I really need to write a better description for my data.',\n",
       "  'author': 'Tim'},\n",
       " 'acl': {'readers': ['public']},\n",
       " 'metadata': {'createdOn': 1585165545682,\n",
       "  'createdBy': 'test/af3ae12608ced0778915',\n",
       "  'modifiedOn': 1585165659979,\n",
       "  'modifiedBy': 'test/af3ae12608ced0778915',\n",
       "  'txnId': 1585165545682015},\n",
       " 'payloads': [{'name': 'p1', 'filename': 'example-data.csv', 'size': 385}]}"
      ]
     },
     "execution_count": 16,
     "metadata": {},
     "output_type": "execute_result"
    }
   ],
   "source": [
    "response = cordra.Objects.update(\n",
    "    host,\n",
    "    obj_id_2,\n",
    "    obj_json=\"I really need to write a better description for my data.\",\n",
    "    jsonPointer=\"/description\",\n",
    "    username=username,\n",
    "    password=password,\n",
    "    verify=False,\n",
    "    dryRun=True,\n",
    "    full=True)\n",
    "response"
   ]
  },
  {
   "cell_type": "markdown",
   "metadata": {},
   "source": [
    "## Update all of the object JSON\n",
    "\n",
    "payloads not affected"
   ]
  },
  {
   "cell_type": "code",
   "execution_count": 17,
   "metadata": {},
   "outputs": [
    {
     "data": {
      "text/plain": [
       "{'id': 'test/abedafa7da73571f799d',\n",
       " 'type': 'debug',\n",
       " 'content': {'id': 'test/abedafa7da73571f799d',\n",
       "  'SAM1': 'Level of CXCR4 expression'},\n",
       " 'acl': {'readers': ['public']},\n",
       " 'metadata': {'createdOn': 1585165545682,\n",
       "  'createdBy': 'test/af3ae12608ced0778915',\n",
       "  'modifiedOn': 1585165660016,\n",
       "  'modifiedBy': 'test/af3ae12608ced0778915',\n",
       "  'txnId': 1585165545682015},\n",
       " 'payloads': [{'name': 'p1', 'filename': 'example-data.csv', 'size': 385}]}"
      ]
     },
     "execution_count": 17,
     "metadata": {},
     "output_type": "execute_result"
    }
   ],
   "source": [
    "response = cordra.Objects.update(\n",
    "    host,\n",
    "    obj_id_2,\n",
    "    obj_json={\"SAM1\":\"Level of CXCR4 expression\"},\n",
    "    username=username,\n",
    "    password=password,\n",
    "    verify=False,\n",
    "    dryRun=True,\n",
    "    full=True)\n",
    "response"
   ]
  },
  {
   "cell_type": "markdown",
   "metadata": {},
   "source": [
    "## Update just ACLs\n",
    "\n",
    "payloads not affected"
   ]
  },
  {
   "cell_type": "code",
   "execution_count": 18,
   "metadata": {},
   "outputs": [
    {
     "data": {
      "text/plain": [
       "{}"
      ]
     },
     "execution_count": 18,
     "metadata": {},
     "output_type": "execute_result"
    }
   ],
   "source": [
    "response = cordra.Objects.update(\n",
    "    host,\n",
    "    obj_id_2,\n",
    "    acls={\"readers\":None,\"writers\":None},\n",
    "    username=username,\n",
    "    password=password,\n",
    "    verify=False,\n",
    "    full=True)\n",
    "response"
   ]
  },
  {
   "cell_type": "code",
   "execution_count": 19,
   "metadata": {},
   "outputs": [
    {
     "name": "stdout",
     "output_type": "stream",
     "text": [
      "\n"
     ]
    },
    {
     "ename": "HTTPError",
     "evalue": "401 Client Error: Unauthorized for url: https://localhost/objects/test/abedafa7da73571f799d?full=True",
     "output_type": "error",
     "traceback": [
      "\u001b[0;31m---------------------------------------------------------------------------\u001b[0m",
      "\u001b[0;31mHTTPError\u001b[0m                                 Traceback (most recent call last)",
      "\u001b[0;32m<ipython-input-19-015b0d7c8049>\u001b[0m in \u001b[0;36m<module>\u001b[0;34m\u001b[0m\n\u001b[0;32m----> 1\u001b[0;31m \u001b[0mmy_obj\u001b[0m \u001b[0;34m=\u001b[0m \u001b[0mcordra\u001b[0m\u001b[0;34m.\u001b[0m\u001b[0mObjects\u001b[0m\u001b[0;34m.\u001b[0m\u001b[0mread\u001b[0m\u001b[0;34m(\u001b[0m\u001b[0mhost\u001b[0m\u001b[0;34m,\u001b[0m\u001b[0mobj_id_2\u001b[0m\u001b[0;34m,\u001b[0m\u001b[0mverify\u001b[0m\u001b[0;34m=\u001b[0m\u001b[0;32mFalse\u001b[0m\u001b[0;34m,\u001b[0m\u001b[0mfull\u001b[0m\u001b[0;34m=\u001b[0m\u001b[0;32mTrue\u001b[0m\u001b[0;34m)\u001b[0m\u001b[0;34m\u001b[0m\u001b[0;34m\u001b[0m\u001b[0m\n\u001b[0m\u001b[1;32m      2\u001b[0m \u001b[0mmy_obj\u001b[0m\u001b[0;34m\u001b[0m\u001b[0;34m\u001b[0m\u001b[0m\n",
      "\u001b[0;32m~/Documents/git/CordraPy/cordra.py\u001b[0m in \u001b[0;36mread\u001b[0;34m(host, obj_id, username, password, verify, jsonPointer, jsonFilter, full)\u001b[0m\n\u001b[1;32m    130\u001b[0m                     \u001b[0musername\u001b[0m\u001b[0;34m,\u001b[0m\u001b[0;34m\u001b[0m\u001b[0;34m\u001b[0m\u001b[0m\n\u001b[1;32m    131\u001b[0m                     password),\n\u001b[0;32m--> 132\u001b[0;31m                 verify=verify))\n\u001b[0m\u001b[1;32m    133\u001b[0m         \u001b[0;32mreturn\u001b[0m \u001b[0mr\u001b[0m\u001b[0;34m\u001b[0m\u001b[0;34m\u001b[0m\u001b[0m\n\u001b[1;32m    134\u001b[0m \u001b[0;34m\u001b[0m\u001b[0m\n",
      "\u001b[0;32m~/Documents/git/CordraPy/cordra.py\u001b[0m in \u001b[0;36mcheck_response\u001b[0;34m(response)\u001b[0m\n\u001b[1;32m     19\u001b[0m         \u001b[0;32mexcept\u001b[0m \u001b[0mBaseException\u001b[0m\u001b[0;34m:\u001b[0m\u001b[0;34m\u001b[0m\u001b[0;34m\u001b[0m\u001b[0m\n\u001b[1;32m     20\u001b[0m             \u001b[0mprint\u001b[0m\u001b[0;34m(\u001b[0m\u001b[0mresponse\u001b[0m\u001b[0;34m.\u001b[0m\u001b[0mtext\u001b[0m\u001b[0;34m)\u001b[0m\u001b[0;34m\u001b[0m\u001b[0;34m\u001b[0m\u001b[0m\n\u001b[0;32m---> 21\u001b[0;31m         \u001b[0mresponse\u001b[0m\u001b[0;34m.\u001b[0m\u001b[0mraise_for_status\u001b[0m\u001b[0;34m(\u001b[0m\u001b[0;34m)\u001b[0m\u001b[0;34m\u001b[0m\u001b[0;34m\u001b[0m\u001b[0m\n\u001b[0m\u001b[1;32m     22\u001b[0m         \u001b[0;32mreturn\u001b[0m \u001b[0;32mNone\u001b[0m\u001b[0;34m\u001b[0m\u001b[0;34m\u001b[0m\u001b[0m\n\u001b[1;32m     23\u001b[0m     \u001b[0;32melse\u001b[0m\u001b[0;34m:\u001b[0m\u001b[0;34m\u001b[0m\u001b[0;34m\u001b[0m\u001b[0m\n",
      "\u001b[0;32m~/opt/anaconda3/lib/python3.7/site-packages/requests/models.py\u001b[0m in \u001b[0;36mraise_for_status\u001b[0;34m(self)\u001b[0m\n\u001b[1;32m    938\u001b[0m \u001b[0;34m\u001b[0m\u001b[0m\n\u001b[1;32m    939\u001b[0m         \u001b[0;32mif\u001b[0m \u001b[0mhttp_error_msg\u001b[0m\u001b[0;34m:\u001b[0m\u001b[0;34m\u001b[0m\u001b[0;34m\u001b[0m\u001b[0m\n\u001b[0;32m--> 940\u001b[0;31m             \u001b[0;32mraise\u001b[0m \u001b[0mHTTPError\u001b[0m\u001b[0;34m(\u001b[0m\u001b[0mhttp_error_msg\u001b[0m\u001b[0;34m,\u001b[0m \u001b[0mresponse\u001b[0m\u001b[0;34m=\u001b[0m\u001b[0mself\u001b[0m\u001b[0;34m)\u001b[0m\u001b[0;34m\u001b[0m\u001b[0;34m\u001b[0m\u001b[0m\n\u001b[0m\u001b[1;32m    941\u001b[0m \u001b[0;34m\u001b[0m\u001b[0m\n\u001b[1;32m    942\u001b[0m     \u001b[0;32mdef\u001b[0m \u001b[0mclose\u001b[0m\u001b[0;34m(\u001b[0m\u001b[0mself\u001b[0m\u001b[0;34m)\u001b[0m\u001b[0;34m:\u001b[0m\u001b[0;34m\u001b[0m\u001b[0;34m\u001b[0m\u001b[0m\n",
      "\u001b[0;31mHTTPError\u001b[0m: 401 Client Error: Unauthorized for url: https://localhost/objects/test/abedafa7da73571f799d?full=True"
     ]
    }
   ],
   "source": [
    "# this should return a 401 error\n",
    "\n",
    "my_obj = cordra.Objects.read(host,obj_id_2,verify=False,full=True)\n",
    "my_obj"
   ]
  },
  {
   "cell_type": "code",
   "execution_count": 20,
   "metadata": {},
   "outputs": [
    {
     "data": {
      "text/plain": [
       "{'id': 'test/abedafa7da73571f799d',\n",
       " 'type': 'debug',\n",
       " 'content': {'id': 'test/abedafa7da73571f799d',\n",
       "  'name': 'example 2',\n",
       "  'description': 'another example of metadata for CSV payload',\n",
       "  'author': 'Tim'},\n",
       " 'acl': {},\n",
       " 'metadata': {'createdOn': 1585165545682,\n",
       "  'createdBy': 'test/af3ae12608ced0778915',\n",
       "  'modifiedOn': 1585165660068,\n",
       "  'modifiedBy': 'test/af3ae12608ced0778915',\n",
       "  'txnId': 1585165660057021},\n",
       " 'payloads': [{'name': 'p1', 'filename': 'example-data.csv', 'size': 385}]}"
      ]
     },
     "execution_count": 20,
     "metadata": {},
     "output_type": "execute_result"
    }
   ],
   "source": [
    "my_obj = cordra.Objects.read(host,obj_id_2,username=username,password=password,verify=False,full=True)\n",
    "my_obj"
   ]
  },
  {
   "cell_type": "markdown",
   "metadata": {},
   "source": [
    "# Delete objects"
   ]
  },
  {
   "cell_type": "code",
   "execution_count": 21,
   "metadata": {},
   "outputs": [
    {
     "data": {
      "text/plain": [
       "{}"
      ]
     },
     "execution_count": 21,
     "metadata": {},
     "output_type": "execute_result"
    }
   ],
   "source": [
    "response = cordra.Objects.delete(host,obj_id_1,username=username,password=password,verify=False)\n",
    "response"
   ]
  },
  {
   "cell_type": "code",
   "execution_count": 22,
   "metadata": {},
   "outputs": [
    {
     "data": {
      "text/plain": [
       "{}"
      ]
     },
     "execution_count": 22,
     "metadata": {},
     "output_type": "execute_result"
    }
   ],
   "source": [
    "response = cordra.Objects.delete(host,obj_id_2,username=username,password=password,verify=False)\n",
    "response"
   ]
  },
  {
   "cell_type": "code",
   "execution_count": null,
   "metadata": {},
   "outputs": [],
   "source": []
  }
 ],
 "metadata": {
  "kernelspec": {
   "display_name": "Python 3",
   "language": "python",
   "name": "python3"
  },
  "language_info": {
   "codemirror_mode": {
    "name": "ipython",
    "version": 3
   },
   "file_extension": ".py",
   "mimetype": "text/x-python",
   "name": "python",
   "nbconvert_exporter": "python",
   "pygments_lexer": "ipython3",
   "version": "3.7.4"
  }
 },
 "nbformat": 4,
 "nbformat_minor": 2
}
